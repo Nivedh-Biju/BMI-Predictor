{
 "cells": [
  {
   "cell_type": "code",
   "execution_count": 18,
   "id": "1559a479-a06f-43cd-a126-43e3a1bc1538",
   "metadata": {},
   "outputs": [],
   "source": [
    "import pandas as pd"
   ]
  },
  {
   "cell_type": "code",
   "execution_count": 29,
   "id": "d3a5b451-811e-4937-82e9-920b3a2de7fb",
   "metadata": {},
   "outputs": [],
   "source": [
    "data = pd.read_csv('facial_features.csv')"
   ]
  },
  {
   "cell_type": "code",
   "execution_count": 20,
   "id": "47da7dfa-c5a4-4612-b70c-d447da16b625",
   "metadata": {},
   "outputs": [
    {
     "name": "stdout",
     "output_type": "stream",
     "text": [
      "Loaded Model Parameters: {'random_state': 42, 'n_estimators': 200}\n",
      "Loaded Best R^2 Score: 0.8780411318123867\n"
     ]
    }
   ],
   "source": [
    "# Load the best model\n",
    "import joblib\n",
    "loaded_model = joblib.load('best_random_forest_model.pkl')\n",
    "\n",
    "# Load the metadata\n",
    "metadata = joblib.load('best_model_metadata.pkl')\n",
    "loaded_params = metadata['best_params']\n",
    "loaded_r2 = metadata['best_r2']\n",
    "\n",
    "print(f\"Loaded Model Parameters: {loaded_params}\")\n",
    "print(f\"Loaded Best R^2 Score: {loaded_r2}\")\n"
   ]
  },
  {
   "cell_type": "code",
   "execution_count": 21,
   "id": "890c4a69-b5a4-41c1-9d29-a8f4b12cefa9",
   "metadata": {},
   "outputs": [],
   "source": [
    "result = loaded_model.predict(data)"
   ]
  },
  {
   "cell_type": "code",
   "execution_count": 22,
   "id": "b920b23c-9fbe-4b62-9a3e-1f790fd789dd",
   "metadata": {},
   "outputs": [
    {
     "data": {
      "text/plain": [
       "array([29.70086681])"
      ]
     },
     "execution_count": 22,
     "metadata": {},
     "output_type": "execute_result"
    }
   ],
   "source": [
    "result"
   ]
  },
  {
   "cell_type": "code",
   "execution_count": 23,
   "id": "eb21faa8-6be9-4ca2-9c1c-1e713b821166",
   "metadata": {},
   "outputs": [
    {
     "name": "stdout",
     "output_type": "stream",
     "text": [
      "Overweight\n"
     ]
    }
   ],
   "source": [
    "def get_bmi_category(bmi):\n",
    "    if bmi < 18.5:\n",
    "        return \"Underweight\"\n",
    "    elif 18.5 <= bmi < 24.9:\n",
    "        return \"Normal\"\n",
    "    elif 25 <= bmi < 29.9:\n",
    "        return \"Overweight\"\n",
    "    else:\n",
    "        return \"Obese\"\n",
    "print(get_bmi_category(result))"
   ]
  },
  {
   "cell_type": "code",
   "execution_count": 27,
   "id": "e20c8319-abb1-4f2d-b143-de33040f265b",
   "metadata": {},
   "outputs": [],
   "source": [
    "#actual weight: 93\n",
    "#actual height: 177\n",
    "#bmi : 29.7"
   ]
  },
  {
   "cell_type": "code",
   "execution_count": 30,
   "id": "fae5e1ce-0090-4404-a4e2-8c29f7e6158b",
   "metadata": {},
   "outputs": [],
   "source": [
    "loaded_model = joblib.load('sex_prediction_model.pkl')\n",
    "result = loaded_model.predict(data)"
   ]
  },
  {
   "cell_type": "code",
   "execution_count": 32,
   "id": "036b9b3b-c1ed-447f-b6d4-c80ead500c97",
   "metadata": {},
   "outputs": [
    {
     "data": {
      "text/plain": [
       "array([1])"
      ]
     },
     "execution_count": 32,
     "metadata": {},
     "output_type": "execute_result"
    }
   ],
   "source": [
    "result\n",
    "#1 for male, 0 for female"
   ]
  },
  {
   "cell_type": "code",
   "execution_count": null,
   "id": "a724c74a-da7e-4beb-a146-0b7cf413eee2",
   "metadata": {},
   "outputs": [],
   "source": []
  }
 ],
 "metadata": {
  "kernelspec": {
   "display_name": "Python (venv1)",
   "language": "python",
   "name": "venv1"
  },
  "language_info": {
   "codemirror_mode": {
    "name": "ipython",
    "version": 3
   },
   "file_extension": ".py",
   "mimetype": "text/x-python",
   "name": "python",
   "nbconvert_exporter": "python",
   "pygments_lexer": "ipython3",
   "version": "3.10.12"
  }
 },
 "nbformat": 4,
 "nbformat_minor": 5
}
